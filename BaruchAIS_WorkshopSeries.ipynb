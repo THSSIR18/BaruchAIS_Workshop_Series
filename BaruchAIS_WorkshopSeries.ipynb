{
 "cells": [
  {
   "cell_type": "markdown",
   "metadata": {},
   "source": [
    "# Baruch AIS: Workshop Series"
   ]
  },
  {
   "cell_type": "markdown",
   "metadata": {},
   "source": [
    "### Lesson 1: Introduction  (1.5hr)   12:30 PM - 2PM\n",
    "\n",
    "##### 1. Jupyter Online / Google Colab (10-15 min)\n",
    "##### 2. Yahoo Finance (5 min)\n",
    "##### 3. Importing Libraries (5-10 min)"
   ]
  },
  {
   "cell_type": "code",
   "execution_count": 1,
   "metadata": {},
   "outputs": [],
   "source": [
    "#if issues running any of these make sure to install first with the command: \n",
    "# pip install pandas \n",
    "#pip install numpy \n",
    "# pip install matplotlib.pyplot\n",
    "\n",
    "import pandas as pd     #everything else\n",
    "import numpy as np        #calculations\n",
    "import pandas_datareader as pdr       #pandas datareader to get stock data\n",
    "from scipy import stats    # statistics\n",
    "import datetime"
   ]
  },
  {
   "cell_type": "code",
   "execution_count": 2,
   "metadata": {},
   "outputs": [
    {
     "name": "stdout",
     "output_type": "stream",
     "text": [
      "Enter Ticker Symbol for StockA: TSLA\n",
      "Enter Ticker Symbol for StockB: AAPL\n",
      "Enter a start date in YYYY-MM-DD format: 2019-01-01\n",
      "Enter an end date in YYYY-MM-DD format: 2020-01-01\n"
     ]
    }
   ],
   "source": [
    "#Make it interactive for user\n",
    "\n",
    "\n",
    "symbolA= input(\"Enter Ticker Symbol for StockA: \")\n",
    "symbolB= input(\"Enter Ticker Symbol for StockB: \")\n",
    "\n",
    "\n",
    "#User enters the start date of stock analysis\n",
    "date_entry = input('Enter a start date in YYYY-MM-DD format: ')\n",
    "year, month, day = map(int, date_entry.split('-'))\n",
    "start = datetime.date(year, month, day)\n",
    "\n",
    "# User enters the end date of stock analysis\n",
    "date_entry = input('Enter an end date in YYYY-MM-DD format: ')\n",
    "year, month, day = map(int, date_entry.split('-'))\n",
    "end = datetime.date(year, month, day)"
   ]
  },
  {
   "cell_type": "code",
   "execution_count": 3,
   "metadata": {},
   "outputs": [],
   "source": [
    "## Import data from Yahoo\n",
    "TSLA= pdr.DataReader(symbolA, 'yahoo', start, end)\n",
    "AAPL= pdr.DataReader(symbolB, 'yahoo', start, end)"
   ]
  },
  {
   "cell_type": "code",
   "execution_count": 4,
   "metadata": {},
   "outputs": [
    {
     "data": {
      "text/html": [
       "<div>\n",
       "<style scoped>\n",
       "    .dataframe tbody tr th:only-of-type {\n",
       "        vertical-align: middle;\n",
       "    }\n",
       "\n",
       "    .dataframe tbody tr th {\n",
       "        vertical-align: top;\n",
       "    }\n",
       "\n",
       "    .dataframe thead th {\n",
       "        text-align: right;\n",
       "    }\n",
       "</style>\n",
       "<table border=\"1\" class=\"dataframe\">\n",
       "  <thead>\n",
       "    <tr style=\"text-align: right;\">\n",
       "      <th></th>\n",
       "      <th>High</th>\n",
       "      <th>Low</th>\n",
       "      <th>Open</th>\n",
       "      <th>Close</th>\n",
       "      <th>Volume</th>\n",
       "      <th>Adj Close</th>\n",
       "    </tr>\n",
       "    <tr>\n",
       "      <th>Date</th>\n",
       "      <th></th>\n",
       "      <th></th>\n",
       "      <th></th>\n",
       "      <th></th>\n",
       "      <th></th>\n",
       "      <th></th>\n",
       "    </tr>\n",
       "  </thead>\n",
       "  <tbody>\n",
       "    <tr>\n",
       "      <th>2019-12-17</th>\n",
       "      <td>77.099998</td>\n",
       "      <td>75.180000</td>\n",
       "      <td>75.797997</td>\n",
       "      <td>75.797997</td>\n",
       "      <td>42484000</td>\n",
       "      <td>75.797997</td>\n",
       "    </tr>\n",
       "    <tr>\n",
       "      <th>2019-12-18</th>\n",
       "      <td>79.043999</td>\n",
       "      <td>76.115997</td>\n",
       "      <td>76.125999</td>\n",
       "      <td>78.629997</td>\n",
       "      <td>70605000</td>\n",
       "      <td>78.629997</td>\n",
       "    </tr>\n",
       "    <tr>\n",
       "      <th>2019-12-19</th>\n",
       "      <td>81.370003</td>\n",
       "      <td>79.300003</td>\n",
       "      <td>79.463997</td>\n",
       "      <td>80.807999</td>\n",
       "      <td>90535500</td>\n",
       "      <td>80.807999</td>\n",
       "    </tr>\n",
       "    <tr>\n",
       "      <th>2019-12-20</th>\n",
       "      <td>82.599998</td>\n",
       "      <td>80.038002</td>\n",
       "      <td>82.057999</td>\n",
       "      <td>81.117996</td>\n",
       "      <td>73763500</td>\n",
       "      <td>81.117996</td>\n",
       "    </tr>\n",
       "    <tr>\n",
       "      <th>2019-12-23</th>\n",
       "      <td>84.402000</td>\n",
       "      <td>82.000000</td>\n",
       "      <td>82.356003</td>\n",
       "      <td>83.844002</td>\n",
       "      <td>66598000</td>\n",
       "      <td>83.844002</td>\n",
       "    </tr>\n",
       "    <tr>\n",
       "      <th>2019-12-24</th>\n",
       "      <td>85.094002</td>\n",
       "      <td>82.538002</td>\n",
       "      <td>83.671997</td>\n",
       "      <td>85.050003</td>\n",
       "      <td>40273500</td>\n",
       "      <td>85.050003</td>\n",
       "    </tr>\n",
       "    <tr>\n",
       "      <th>2019-12-26</th>\n",
       "      <td>86.695999</td>\n",
       "      <td>85.269997</td>\n",
       "      <td>85.582001</td>\n",
       "      <td>86.188004</td>\n",
       "      <td>53169500</td>\n",
       "      <td>86.188004</td>\n",
       "    </tr>\n",
       "    <tr>\n",
       "      <th>2019-12-27</th>\n",
       "      <td>87.061996</td>\n",
       "      <td>85.222000</td>\n",
       "      <td>87.000000</td>\n",
       "      <td>86.075996</td>\n",
       "      <td>49728500</td>\n",
       "      <td>86.075996</td>\n",
       "    </tr>\n",
       "    <tr>\n",
       "      <th>2019-12-30</th>\n",
       "      <td>85.800003</td>\n",
       "      <td>81.851997</td>\n",
       "      <td>85.758003</td>\n",
       "      <td>82.940002</td>\n",
       "      <td>62932000</td>\n",
       "      <td>82.940002</td>\n",
       "    </tr>\n",
       "    <tr>\n",
       "      <th>2019-12-31</th>\n",
       "      <td>84.258003</td>\n",
       "      <td>80.416000</td>\n",
       "      <td>81.000000</td>\n",
       "      <td>83.666000</td>\n",
       "      <td>51428500</td>\n",
       "      <td>83.666000</td>\n",
       "    </tr>\n",
       "  </tbody>\n",
       "</table>\n",
       "</div>"
      ],
      "text/plain": [
       "                 High        Low       Open      Close    Volume  Adj Close\n",
       "Date                                                                       \n",
       "2019-12-17  77.099998  75.180000  75.797997  75.797997  42484000  75.797997\n",
       "2019-12-18  79.043999  76.115997  76.125999  78.629997  70605000  78.629997\n",
       "2019-12-19  81.370003  79.300003  79.463997  80.807999  90535500  80.807999\n",
       "2019-12-20  82.599998  80.038002  82.057999  81.117996  73763500  81.117996\n",
       "2019-12-23  84.402000  82.000000  82.356003  83.844002  66598000  83.844002\n",
       "2019-12-24  85.094002  82.538002  83.671997  85.050003  40273500  85.050003\n",
       "2019-12-26  86.695999  85.269997  85.582001  86.188004  53169500  86.188004\n",
       "2019-12-27  87.061996  85.222000  87.000000  86.075996  49728500  86.075996\n",
       "2019-12-30  85.800003  81.851997  85.758003  82.940002  62932000  82.940002\n",
       "2019-12-31  84.258003  80.416000  81.000000  83.666000  51428500  83.666000"
      ]
     },
     "execution_count": 4,
     "metadata": {},
     "output_type": "execute_result"
    }
   ],
   "source": [
    "## Explore stocks\n",
    "\n",
    "TSLA.head(10)   #first ten rows\n",
    "\n",
    "TSLA.tail(10)    #last ten rows"
   ]
  },
  {
   "cell_type": "code",
   "execution_count": 5,
   "metadata": {},
   "outputs": [],
   "source": [
    "## only keep columns that you want to analyze\n",
    "\n",
    "TSLA_= TSLA[[\"Adj Close\"]]"
   ]
  },
  {
   "cell_type": "code",
   "execution_count": 6,
   "metadata": {},
   "outputs": [
    {
     "data": {
      "text/plain": [
       "Adj Close    0\n",
       "dtype: int64"
      ]
     },
     "execution_count": 6,
     "metadata": {},
     "output_type": "execute_result"
    }
   ],
   "source": [
    "# are there missing values?\n",
    "\n",
    "TSLA_.isnull().sum()"
   ]
  },
  {
   "cell_type": "code",
   "execution_count": 7,
   "metadata": {},
   "outputs": [
    {
     "name": "stderr",
     "output_type": "stream",
     "text": [
      "/Users/sandra/opt/anaconda3/lib/python3.8/site-packages/pandas/core/frame.py:4125: SettingWithCopyWarning: \n",
      "A value is trying to be set on a copy of a slice from a DataFrame\n",
      "\n",
      "See the caveats in the documentation: https://pandas.pydata.org/pandas-docs/stable/user_guide/indexing.html#returning-a-view-versus-a-copy\n",
      "  return super().rename(\n"
     ]
    }
   ],
   "source": [
    "## Identify index and columns + rename a column\n",
    "\n",
    "TSLA_.index\n",
    "TSLA_.columns\n",
    "\n",
    "TSLA_.rename(columns = {\"Adj Close\": \"Adj_Close\"}, inplace= True)"
   ]
  },
  {
   "cell_type": "code",
   "execution_count": 8,
   "metadata": {},
   "outputs": [
    {
     "data": {
      "text/html": [
       "<div>\n",
       "<style scoped>\n",
       "    .dataframe tbody tr th:only-of-type {\n",
       "        vertical-align: middle;\n",
       "    }\n",
       "\n",
       "    .dataframe tbody tr th {\n",
       "        vertical-align: top;\n",
       "    }\n",
       "\n",
       "    .dataframe thead th {\n",
       "        text-align: right;\n",
       "    }\n",
       "</style>\n",
       "<table border=\"1\" class=\"dataframe\">\n",
       "  <thead>\n",
       "    <tr style=\"text-align: right;\">\n",
       "      <th></th>\n",
       "      <th>Adj_Close</th>\n",
       "    </tr>\n",
       "    <tr>\n",
       "      <th>Date</th>\n",
       "      <th></th>\n",
       "    </tr>\n",
       "  </thead>\n",
       "  <tbody>\n",
       "    <tr>\n",
       "      <th>2019-01-02</th>\n",
       "      <td>62.023998</td>\n",
       "    </tr>\n",
       "    <tr>\n",
       "      <th>2019-01-03</th>\n",
       "      <td>60.071999</td>\n",
       "    </tr>\n",
       "    <tr>\n",
       "      <th>2019-01-04</th>\n",
       "      <td>63.537998</td>\n",
       "    </tr>\n",
       "    <tr>\n",
       "      <th>2019-01-07</th>\n",
       "      <td>66.991997</td>\n",
       "    </tr>\n",
       "    <tr>\n",
       "      <th>2019-01-08</th>\n",
       "      <td>67.070000</td>\n",
       "    </tr>\n",
       "  </tbody>\n",
       "</table>\n",
       "</div>"
      ],
      "text/plain": [
       "            Adj_Close\n",
       "Date                 \n",
       "2019-01-02  62.023998\n",
       "2019-01-03  60.071999\n",
       "2019-01-04  63.537998\n",
       "2019-01-07  66.991997\n",
       "2019-01-08  67.070000"
      ]
     },
     "execution_count": 8,
     "metadata": {},
     "output_type": "execute_result"
    }
   ],
   "source": [
    "TSLA_.head()"
   ]
  },
  {
   "cell_type": "code",
   "execution_count": 9,
   "metadata": {},
   "outputs": [
    {
     "data": {
      "text/plain": [
       "86.18800354003906"
      ]
     },
     "execution_count": 9,
     "metadata": {},
     "output_type": "execute_result"
    }
   ],
   "source": [
    "# Find the highest,lowest and mean value in Adj_Close\n",
    "\n",
    "#TSLA_.Adj_Close.max()\n",
    "\n",
    "#TSLA_.Adj_Close.min()\n",
    "\n",
    "TSLA_.Adj_Close.max()"
   ]
  },
  {
   "cell_type": "markdown",
   "metadata": {},
   "source": [
    "### Lesson 2: Statistical Analysis  12:30 PM - 2PM\n"
   ]
  },
  {
   "cell_type": "markdown",
   "metadata": {},
   "source": [
    "Make sure to load the code above before continuing"
   ]
  },
  {
   "cell_type": "code",
   "execution_count": 10,
   "metadata": {},
   "outputs": [
    {
     "name": "stderr",
     "output_type": "stream",
     "text": [
      "/Users/sandra/opt/anaconda3/lib/python3.8/site-packages/pandas/core/frame.py:4125: SettingWithCopyWarning: \n",
      "A value is trying to be set on a copy of a slice from a DataFrame\n",
      "\n",
      "See the caveats in the documentation: https://pandas.pydata.org/pandas-docs/stable/user_guide/indexing.html#returning-a-view-versus-a-copy\n",
      "  return super().rename(\n"
     ]
    },
    {
     "data": {
      "text/html": [
       "<div>\n",
       "<style scoped>\n",
       "    .dataframe tbody tr th:only-of-type {\n",
       "        vertical-align: middle;\n",
       "    }\n",
       "\n",
       "    .dataframe tbody tr th {\n",
       "        vertical-align: top;\n",
       "    }\n",
       "\n",
       "    .dataframe thead th {\n",
       "        text-align: right;\n",
       "    }\n",
       "</style>\n",
       "<table border=\"1\" class=\"dataframe\">\n",
       "  <thead>\n",
       "    <tr style=\"text-align: right;\">\n",
       "      <th></th>\n",
       "      <th>Adj_Close</th>\n",
       "    </tr>\n",
       "    <tr>\n",
       "      <th>Date</th>\n",
       "      <th></th>\n",
       "    </tr>\n",
       "  </thead>\n",
       "  <tbody>\n",
       "    <tr>\n",
       "      <th>2019-01-02</th>\n",
       "      <td>38.505024</td>\n",
       "    </tr>\n",
       "    <tr>\n",
       "      <th>2019-01-03</th>\n",
       "      <td>34.669640</td>\n",
       "    </tr>\n",
       "    <tr>\n",
       "      <th>2019-01-04</th>\n",
       "      <td>36.149662</td>\n",
       "    </tr>\n",
       "    <tr>\n",
       "      <th>2019-01-07</th>\n",
       "      <td>36.069202</td>\n",
       "    </tr>\n",
       "    <tr>\n",
       "      <th>2019-01-08</th>\n",
       "      <td>36.756794</td>\n",
       "    </tr>\n",
       "  </tbody>\n",
       "</table>\n",
       "</div>"
      ],
      "text/plain": [
       "            Adj_Close\n",
       "Date                 \n",
       "2019-01-02  38.505024\n",
       "2019-01-03  34.669640\n",
       "2019-01-04  36.149662\n",
       "2019-01-07  36.069202\n",
       "2019-01-08  36.756794"
      ]
     },
     "execution_count": 10,
     "metadata": {},
     "output_type": "execute_result"
    }
   ],
   "source": [
    "# create df for AAPL with only the adjusted close\n",
    "\n",
    "AAPL_ = AAPL[[\"Adj Close\"]]\n",
    "AAPL_.rename(columns ={\"Adj Close\": \"Adj_Close\"}, inplace= True)\n",
    "AAPL_.head()\n",
    "\n",
    "\n",
    "#min and max are self-explanatory\n",
    "# count: how many values in this column\n",
    "\n",
    "#25%: 75 % of data are higher than $46\n",
    "# 50%: 50% of values are higher than $52 --> almost equal to mean\n",
    "# 75%: only 25% of values are higher than $62"
   ]
  },
  {
   "cell_type": "markdown",
   "metadata": {},
   "source": [
    "### I. Trend Analysis"
   ]
  },
  {
   "cell_type": "markdown",
   "metadata": {},
   "source": [
    "#### Question 1: Does my stock follow an upward/downward trend? "
   ]
  },
  {
   "cell_type": "markdown",
   "metadata": {},
   "source": [
    "##### Use Exponential Moving Average (EMA): puts more weight on the most recent price (weighted average)\n",
    "Tips: useful for short-term traders, the shorter the period, the more sensitive to price changes"
   ]
  },
  {
   "cell_type": "code",
   "execution_count": 11,
   "metadata": {},
   "outputs": [],
   "source": [
    "#ewm= exponential weighted moving average, span = number of days\n",
    "#why should you use a function? because you have to repeat this process for each stock\n",
    "\n",
    "def trend_analysis(df):\n",
    "    df['Weighted_Moving_Average'] = df['Adj_Close'].ewm(span=3, adjust=False).mean()\n",
    "    df['Moving Average'] = df[\"Adj_Close\"].rolling(window= 2).mean()\n",
    "    \n",
    "    return df\n",
    "    "
   ]
  },
  {
   "cell_type": "code",
   "execution_count": 12,
   "metadata": {},
   "outputs": [
    {
     "name": "stderr",
     "output_type": "stream",
     "text": [
      "<ipython-input-11-010c8ad44e1b>:5: SettingWithCopyWarning: \n",
      "A value is trying to be set on a copy of a slice from a DataFrame.\n",
      "Try using .loc[row_indexer,col_indexer] = value instead\n",
      "\n",
      "See the caveats in the documentation: https://pandas.pydata.org/pandas-docs/stable/user_guide/indexing.html#returning-a-view-versus-a-copy\n",
      "  df['Weighted_Moving_Average'] = df['Adj_Close'].ewm(span=3, adjust=False).mean()\n",
      "<ipython-input-11-010c8ad44e1b>:6: SettingWithCopyWarning: \n",
      "A value is trying to be set on a copy of a slice from a DataFrame.\n",
      "Try using .loc[row_indexer,col_indexer] = value instead\n",
      "\n",
      "See the caveats in the documentation: https://pandas.pydata.org/pandas-docs/stable/user_guide/indexing.html#returning-a-view-versus-a-copy\n",
      "  df['Moving Average'] = df[\"Adj_Close\"].rolling(window= 2).mean()\n"
     ]
    },
    {
     "data": {
      "text/html": [
       "<div>\n",
       "<style scoped>\n",
       "    .dataframe tbody tr th:only-of-type {\n",
       "        vertical-align: middle;\n",
       "    }\n",
       "\n",
       "    .dataframe tbody tr th {\n",
       "        vertical-align: top;\n",
       "    }\n",
       "\n",
       "    .dataframe thead th {\n",
       "        text-align: right;\n",
       "    }\n",
       "</style>\n",
       "<table border=\"1\" class=\"dataframe\">\n",
       "  <thead>\n",
       "    <tr style=\"text-align: right;\">\n",
       "      <th></th>\n",
       "      <th>Adj_Close</th>\n",
       "      <th>Weighted_Moving_Average</th>\n",
       "      <th>Moving Average</th>\n",
       "    </tr>\n",
       "    <tr>\n",
       "      <th>Date</th>\n",
       "      <th></th>\n",
       "      <th></th>\n",
       "      <th></th>\n",
       "    </tr>\n",
       "  </thead>\n",
       "  <tbody>\n",
       "    <tr>\n",
       "      <th>2019-01-02</th>\n",
       "      <td>62.023998</td>\n",
       "      <td>62.023998</td>\n",
       "      <td>NaN</td>\n",
       "    </tr>\n",
       "    <tr>\n",
       "      <th>2019-01-03</th>\n",
       "      <td>60.071999</td>\n",
       "      <td>61.047998</td>\n",
       "      <td>61.047998</td>\n",
       "    </tr>\n",
       "    <tr>\n",
       "      <th>2019-01-04</th>\n",
       "      <td>63.537998</td>\n",
       "      <td>62.292998</td>\n",
       "      <td>61.804998</td>\n",
       "    </tr>\n",
       "    <tr>\n",
       "      <th>2019-01-07</th>\n",
       "      <td>66.991997</td>\n",
       "      <td>64.642498</td>\n",
       "      <td>65.264997</td>\n",
       "    </tr>\n",
       "    <tr>\n",
       "      <th>2019-01-08</th>\n",
       "      <td>67.070000</td>\n",
       "      <td>65.856249</td>\n",
       "      <td>67.030998</td>\n",
       "    </tr>\n",
       "    <tr>\n",
       "      <th>...</th>\n",
       "      <td>...</td>\n",
       "      <td>...</td>\n",
       "      <td>...</td>\n",
       "    </tr>\n",
       "    <tr>\n",
       "      <th>2019-12-24</th>\n",
       "      <td>85.050003</td>\n",
       "      <td>83.470209</td>\n",
       "      <td>84.447002</td>\n",
       "    </tr>\n",
       "    <tr>\n",
       "      <th>2019-12-26</th>\n",
       "      <td>86.188004</td>\n",
       "      <td>84.829106</td>\n",
       "      <td>85.619003</td>\n",
       "    </tr>\n",
       "    <tr>\n",
       "      <th>2019-12-27</th>\n",
       "      <td>86.075996</td>\n",
       "      <td>85.452551</td>\n",
       "      <td>86.132000</td>\n",
       "    </tr>\n",
       "    <tr>\n",
       "      <th>2019-12-30</th>\n",
       "      <td>82.940002</td>\n",
       "      <td>84.196277</td>\n",
       "      <td>84.507999</td>\n",
       "    </tr>\n",
       "    <tr>\n",
       "      <th>2019-12-31</th>\n",
       "      <td>83.666000</td>\n",
       "      <td>83.931139</td>\n",
       "      <td>83.303001</td>\n",
       "    </tr>\n",
       "  </tbody>\n",
       "</table>\n",
       "<p>252 rows × 3 columns</p>\n",
       "</div>"
      ],
      "text/plain": [
       "            Adj_Close  Weighted_Moving_Average  Moving Average\n",
       "Date                                                          \n",
       "2019-01-02  62.023998                62.023998             NaN\n",
       "2019-01-03  60.071999                61.047998       61.047998\n",
       "2019-01-04  63.537998                62.292998       61.804998\n",
       "2019-01-07  66.991997                64.642498       65.264997\n",
       "2019-01-08  67.070000                65.856249       67.030998\n",
       "...               ...                      ...             ...\n",
       "2019-12-24  85.050003                83.470209       84.447002\n",
       "2019-12-26  86.188004                84.829106       85.619003\n",
       "2019-12-27  86.075996                85.452551       86.132000\n",
       "2019-12-30  82.940002                84.196277       84.507999\n",
       "2019-12-31  83.666000                83.931139       83.303001\n",
       "\n",
       "[252 rows x 3 columns]"
      ]
     },
     "execution_count": 12,
     "metadata": {},
     "output_type": "execute_result"
    }
   ],
   "source": [
    "trend_analysis(AAPL_)\n",
    "trend_analysis(TSLA_)"
   ]
  },
  {
   "cell_type": "code",
   "execution_count": 13,
   "metadata": {},
   "outputs": [
    {
     "data": {
      "text/html": [
       "<div>\n",
       "<style scoped>\n",
       "    .dataframe tbody tr th:only-of-type {\n",
       "        vertical-align: middle;\n",
       "    }\n",
       "\n",
       "    .dataframe tbody tr th {\n",
       "        vertical-align: top;\n",
       "    }\n",
       "\n",
       "    .dataframe thead th {\n",
       "        text-align: right;\n",
       "    }\n",
       "</style>\n",
       "<table border=\"1\" class=\"dataframe\">\n",
       "  <thead>\n",
       "    <tr style=\"text-align: right;\">\n",
       "      <th></th>\n",
       "      <th>Adj_Close</th>\n",
       "      <th>Weighted_Moving_Average</th>\n",
       "      <th>Moving Average</th>\n",
       "    </tr>\n",
       "  </thead>\n",
       "  <tbody>\n",
       "    <tr>\n",
       "      <th>count</th>\n",
       "      <td>252.000000</td>\n",
       "      <td>252.000000</td>\n",
       "      <td>251.000000</td>\n",
       "    </tr>\n",
       "    <tr>\n",
       "      <th>mean</th>\n",
       "      <td>54.706040</td>\n",
       "      <td>54.619107</td>\n",
       "      <td>54.633773</td>\n",
       "    </tr>\n",
       "    <tr>\n",
       "      <th>std</th>\n",
       "      <td>10.606053</td>\n",
       "      <td>10.354508</td>\n",
       "      <td>10.508182</td>\n",
       "    </tr>\n",
       "    <tr>\n",
       "      <th>min</th>\n",
       "      <td>35.793999</td>\n",
       "      <td>36.628205</td>\n",
       "      <td>36.413000</td>\n",
       "    </tr>\n",
       "    <tr>\n",
       "      <th>25%</th>\n",
       "      <td>46.444001</td>\n",
       "      <td>46.646283</td>\n",
       "      <td>46.421500</td>\n",
       "    </tr>\n",
       "    <tr>\n",
       "      <th>50%</th>\n",
       "      <td>52.059000</td>\n",
       "      <td>52.094699</td>\n",
       "      <td>52.172001</td>\n",
       "    </tr>\n",
       "    <tr>\n",
       "      <th>75%</th>\n",
       "      <td>62.382000</td>\n",
       "      <td>62.153718</td>\n",
       "      <td>61.960500</td>\n",
       "    </tr>\n",
       "    <tr>\n",
       "      <th>max</th>\n",
       "      <td>86.188004</td>\n",
       "      <td>85.452551</td>\n",
       "      <td>86.132000</td>\n",
       "    </tr>\n",
       "  </tbody>\n",
       "</table>\n",
       "</div>"
      ],
      "text/plain": [
       "        Adj_Close  Weighted_Moving_Average  Moving Average\n",
       "count  252.000000               252.000000      251.000000\n",
       "mean    54.706040                54.619107       54.633773\n",
       "std     10.606053                10.354508       10.508182\n",
       "min     35.793999                36.628205       36.413000\n",
       "25%     46.444001                46.646283       46.421500\n",
       "50%     52.059000                52.094699       52.172001\n",
       "75%     62.382000                62.153718       61.960500\n",
       "max     86.188004                85.452551       86.132000"
      ]
     },
     "execution_count": 13,
     "metadata": {},
     "output_type": "execute_result"
    }
   ],
   "source": [
    "TSLA_.describe()"
   ]
  },
  {
   "cell_type": "code",
   "execution_count": 14,
   "metadata": {},
   "outputs": [
    {
     "data": {
      "text/html": [
       "<div>\n",
       "<style scoped>\n",
       "    .dataframe tbody tr th:only-of-type {\n",
       "        vertical-align: middle;\n",
       "    }\n",
       "\n",
       "    .dataframe tbody tr th {\n",
       "        vertical-align: top;\n",
       "    }\n",
       "\n",
       "    .dataframe thead th {\n",
       "        text-align: right;\n",
       "    }\n",
       "</style>\n",
       "<table border=\"1\" class=\"dataframe\">\n",
       "  <thead>\n",
       "    <tr style=\"text-align: right;\">\n",
       "      <th></th>\n",
       "      <th>Adj_Close</th>\n",
       "      <th>Weighted_Moving_Average</th>\n",
       "      <th>Moving Average</th>\n",
       "    </tr>\n",
       "    <tr>\n",
       "      <th>Date</th>\n",
       "      <th></th>\n",
       "      <th></th>\n",
       "      <th></th>\n",
       "    </tr>\n",
       "  </thead>\n",
       "  <tbody>\n",
       "    <tr>\n",
       "      <th>2019-01-02</th>\n",
       "      <td>38.505024</td>\n",
       "      <td>38.505024</td>\n",
       "      <td>NaN</td>\n",
       "    </tr>\n",
       "    <tr>\n",
       "      <th>2019-01-03</th>\n",
       "      <td>34.669640</td>\n",
       "      <td>36.587332</td>\n",
       "      <td>36.587332</td>\n",
       "    </tr>\n",
       "    <tr>\n",
       "      <th>2019-01-04</th>\n",
       "      <td>36.149662</td>\n",
       "      <td>36.368497</td>\n",
       "      <td>35.409651</td>\n",
       "    </tr>\n",
       "    <tr>\n",
       "      <th>2019-01-07</th>\n",
       "      <td>36.069202</td>\n",
       "      <td>36.218850</td>\n",
       "      <td>36.109432</td>\n",
       "    </tr>\n",
       "    <tr>\n",
       "      <th>2019-01-08</th>\n",
       "      <td>36.756794</td>\n",
       "      <td>36.487822</td>\n",
       "      <td>36.412998</td>\n",
       "    </tr>\n",
       "    <tr>\n",
       "      <th>...</th>\n",
       "      <td>...</td>\n",
       "      <td>...</td>\n",
       "      <td>...</td>\n",
       "    </tr>\n",
       "    <tr>\n",
       "      <th>2019-12-24</th>\n",
       "      <td>70.353882</td>\n",
       "      <td>70.041272</td>\n",
       "      <td>70.320473</td>\n",
       "    </tr>\n",
       "    <tr>\n",
       "      <th>2019-12-26</th>\n",
       "      <td>71.749733</td>\n",
       "      <td>70.895502</td>\n",
       "      <td>71.051807</td>\n",
       "    </tr>\n",
       "    <tr>\n",
       "      <th>2019-12-27</th>\n",
       "      <td>71.722488</td>\n",
       "      <td>71.308995</td>\n",
       "      <td>71.736111</td>\n",
       "    </tr>\n",
       "    <tr>\n",
       "      <th>2019-12-30</th>\n",
       "      <td>72.148178</td>\n",
       "      <td>71.728587</td>\n",
       "      <td>71.935333</td>\n",
       "    </tr>\n",
       "    <tr>\n",
       "      <th>2019-12-31</th>\n",
       "      <td>72.675339</td>\n",
       "      <td>72.201963</td>\n",
       "      <td>72.411758</td>\n",
       "    </tr>\n",
       "  </tbody>\n",
       "</table>\n",
       "<p>252 rows × 3 columns</p>\n",
       "</div>"
      ],
      "text/plain": [
       "            Adj_Close  Weighted_Moving_Average  Moving Average\n",
       "Date                                                          \n",
       "2019-01-02  38.505024                38.505024             NaN\n",
       "2019-01-03  34.669640                36.587332       36.587332\n",
       "2019-01-04  36.149662                36.368497       35.409651\n",
       "2019-01-07  36.069202                36.218850       36.109432\n",
       "2019-01-08  36.756794                36.487822       36.412998\n",
       "...               ...                      ...             ...\n",
       "2019-12-24  70.353882                70.041272       70.320473\n",
       "2019-12-26  71.749733                70.895502       71.051807\n",
       "2019-12-27  71.722488                71.308995       71.736111\n",
       "2019-12-30  72.148178                71.728587       71.935333\n",
       "2019-12-31  72.675339                72.201963       72.411758\n",
       "\n",
       "[252 rows x 3 columns]"
      ]
     },
     "execution_count": 14,
     "metadata": {},
     "output_type": "execute_result"
    }
   ],
   "source": [
    "#It seems like an upward trend but we will plot it later to assure\n",
    "AAPL_"
   ]
  },
  {
   "cell_type": "markdown",
   "metadata": {},
   "source": [
    "### II. Risk Analysis"
   ]
  },
  {
   "cell_type": "markdown",
   "metadata": {},
   "source": [
    "#### Question 2: How risky is my stock? "
   ]
  },
  {
   "cell_type": "code",
   "execution_count": 14,
   "metadata": {},
   "outputs": [
    {
     "data": {
      "text/plain": [
       "10.60605338485959"
      ]
     },
     "execution_count": 14,
     "metadata": {},
     "output_type": "execute_result"
    }
   ],
   "source": [
    "TSLA_.Adj_Close.std()"
   ]
  },
  {
   "cell_type": "code",
   "execution_count": 15,
   "metadata": {},
   "outputs": [],
   "source": [
    "#Create a function that compares the calculates the standard deviation and returns which stock has a higher risk\n",
    "\n",
    "def risk_analysis(df1, df2):\n",
    "    std_SymbolA= df1.Adj_Close.std()\n",
    "    std_SymbolB= df2.Adj_Close.std()\n",
    "    \n",
    "    if std_SymbolA > std_SymbolB:\n",
    "        print (\"Tesla Stock is riskier than Apple Stock!\")\n",
    "    else:\n",
    "        print (\"Apple Stock is riskier than Tesla Stock!\") "
   ]
  },
  {
   "cell_type": "code",
   "execution_count": 16,
   "metadata": {},
   "outputs": [
    {
     "name": "stdout",
     "output_type": "stream",
     "text": [
      "Tesla Stock is riskier than Apple Stock!\n"
     ]
    }
   ],
   "source": [
    "risk_analysis(TSLA_, AAPL_)"
   ]
  },
  {
   "cell_type": "markdown",
   "metadata": {},
   "source": [
    "### III. Return Analysis\n",
    "\n",
    "Daily Returns Tesla and Apple"
   ]
  },
  {
   "cell_type": "code",
   "execution_count": 17,
   "metadata": {},
   "outputs": [],
   "source": [
    "def daily_return_analysis(df):\n",
    "    df[\"Daily_Returns\"]= df['Adj_Close'].pct_change()\n",
    "    \n",
    "    return df\n",
    "    "
   ]
  },
  {
   "cell_type": "code",
   "execution_count": 19,
   "metadata": {},
   "outputs": [
    {
     "name": "stderr",
     "output_type": "stream",
     "text": [
      "<ipython-input-17-ebd28f4e150d>:2: SettingWithCopyWarning: \n",
      "A value is trying to be set on a copy of a slice from a DataFrame.\n",
      "Try using .loc[row_indexer,col_indexer] = value instead\n",
      "\n",
      "See the caveats in the documentation: https://pandas.pydata.org/pandas-docs/stable/user_guide/indexing.html#returning-a-view-versus-a-copy\n",
      "  df[\"Daily_Returns\"]= df['Adj_Close'].pct_change()\n"
     ]
    },
    {
     "data": {
      "text/html": [
       "<div>\n",
       "<style scoped>\n",
       "    .dataframe tbody tr th:only-of-type {\n",
       "        vertical-align: middle;\n",
       "    }\n",
       "\n",
       "    .dataframe tbody tr th {\n",
       "        vertical-align: top;\n",
       "    }\n",
       "\n",
       "    .dataframe thead th {\n",
       "        text-align: right;\n",
       "    }\n",
       "</style>\n",
       "<table border=\"1\" class=\"dataframe\">\n",
       "  <thead>\n",
       "    <tr style=\"text-align: right;\">\n",
       "      <th></th>\n",
       "      <th>Adj_Close</th>\n",
       "      <th>Weighted_Moving_Average</th>\n",
       "      <th>Moving Average</th>\n",
       "      <th>Daily_Returns</th>\n",
       "    </tr>\n",
       "    <tr>\n",
       "      <th>Date</th>\n",
       "      <th></th>\n",
       "      <th></th>\n",
       "      <th></th>\n",
       "      <th></th>\n",
       "    </tr>\n",
       "  </thead>\n",
       "  <tbody>\n",
       "    <tr>\n",
       "      <th>2019-01-02</th>\n",
       "      <td>38.505024</td>\n",
       "      <td>38.505024</td>\n",
       "      <td>NaN</td>\n",
       "      <td>NaN</td>\n",
       "    </tr>\n",
       "    <tr>\n",
       "      <th>2019-01-03</th>\n",
       "      <td>34.669640</td>\n",
       "      <td>36.587332</td>\n",
       "      <td>36.587332</td>\n",
       "      <td>-0.099607</td>\n",
       "    </tr>\n",
       "    <tr>\n",
       "      <th>2019-01-04</th>\n",
       "      <td>36.149662</td>\n",
       "      <td>36.368497</td>\n",
       "      <td>35.409651</td>\n",
       "      <td>0.042689</td>\n",
       "    </tr>\n",
       "    <tr>\n",
       "      <th>2019-01-07</th>\n",
       "      <td>36.069202</td>\n",
       "      <td>36.218850</td>\n",
       "      <td>36.109432</td>\n",
       "      <td>-0.002226</td>\n",
       "    </tr>\n",
       "    <tr>\n",
       "      <th>2019-01-08</th>\n",
       "      <td>36.756794</td>\n",
       "      <td>36.487822</td>\n",
       "      <td>36.412998</td>\n",
       "      <td>0.019063</td>\n",
       "    </tr>\n",
       "    <tr>\n",
       "      <th>...</th>\n",
       "      <td>...</td>\n",
       "      <td>...</td>\n",
       "      <td>...</td>\n",
       "      <td>...</td>\n",
       "    </tr>\n",
       "    <tr>\n",
       "      <th>2019-12-24</th>\n",
       "      <td>70.353882</td>\n",
       "      <td>70.041272</td>\n",
       "      <td>70.320473</td>\n",
       "      <td>0.000951</td>\n",
       "    </tr>\n",
       "    <tr>\n",
       "      <th>2019-12-26</th>\n",
       "      <td>71.749733</td>\n",
       "      <td>70.895502</td>\n",
       "      <td>71.051807</td>\n",
       "      <td>0.019840</td>\n",
       "    </tr>\n",
       "    <tr>\n",
       "      <th>2019-12-27</th>\n",
       "      <td>71.722488</td>\n",
       "      <td>71.308995</td>\n",
       "      <td>71.736111</td>\n",
       "      <td>-0.000380</td>\n",
       "    </tr>\n",
       "    <tr>\n",
       "      <th>2019-12-30</th>\n",
       "      <td>72.148178</td>\n",
       "      <td>71.728587</td>\n",
       "      <td>71.935333</td>\n",
       "      <td>0.005935</td>\n",
       "    </tr>\n",
       "    <tr>\n",
       "      <th>2019-12-31</th>\n",
       "      <td>72.675339</td>\n",
       "      <td>72.201963</td>\n",
       "      <td>72.411758</td>\n",
       "      <td>0.007307</td>\n",
       "    </tr>\n",
       "  </tbody>\n",
       "</table>\n",
       "<p>252 rows × 4 columns</p>\n",
       "</div>"
      ],
      "text/plain": [
       "            Adj_Close  Weighted_Moving_Average  Moving Average  Daily_Returns\n",
       "Date                                                                         \n",
       "2019-01-02  38.505024                38.505024             NaN            NaN\n",
       "2019-01-03  34.669640                36.587332       36.587332      -0.099607\n",
       "2019-01-04  36.149662                36.368497       35.409651       0.042689\n",
       "2019-01-07  36.069202                36.218850       36.109432      -0.002226\n",
       "2019-01-08  36.756794                36.487822       36.412998       0.019063\n",
       "...               ...                      ...             ...            ...\n",
       "2019-12-24  70.353882                70.041272       70.320473       0.000951\n",
       "2019-12-26  71.749733                70.895502       71.051807       0.019840\n",
       "2019-12-27  71.722488                71.308995       71.736111      -0.000380\n",
       "2019-12-30  72.148178                71.728587       71.935333       0.005935\n",
       "2019-12-31  72.675339                72.201963       72.411758       0.007307\n",
       "\n",
       "[252 rows x 4 columns]"
      ]
     },
     "execution_count": 19,
     "metadata": {},
     "output_type": "execute_result"
    }
   ],
   "source": [
    "daily_return_analysis(TSLA_)\n",
    "daily_return_analysis(AAPL_)"
   ]
  },
  {
   "cell_type": "code",
   "execution_count": 20,
   "metadata": {},
   "outputs": [],
   "source": [
    "TSLA_Monthly_Returns= AAPL_[\"Adj_Close\"].resample('M').ffill().pct_change()[1:]\n",
    "\n",
    "AAPL_Monthly_Returns= AAPL_[\"Adj_Close\"].resample('M').ffill().pct_change()[1:]\n"
   ]
  },
  {
   "cell_type": "code",
   "execution_count": 21,
   "metadata": {},
   "outputs": [
    {
     "data": {
      "text/plain": [
       "Date\n",
       "2019-02-28    0.044777\n",
       "2019-03-31    0.097026\n",
       "2019-04-30    0.056436\n",
       "2019-05-31   -0.124213\n",
       "2019-06-30    0.130519\n",
       "2019-07-31    0.076394\n",
       "2019-08-31   -0.016461\n",
       "2019-09-30    0.072962\n",
       "2019-10-31    0.110684\n",
       "2019-11-30    0.077554\n",
       "2019-12-31    0.098784\n",
       "Freq: M, Name: Adj_Close, dtype: float64"
      ]
     },
     "execution_count": 21,
     "metadata": {},
     "output_type": "execute_result"
    }
   ],
   "source": [
    "TSLA_Monthly_Returns"
   ]
  },
  {
   "cell_type": "code",
   "execution_count": null,
   "metadata": {},
   "outputs": [],
   "source": [
    "#Records were reduced by a lot --> monthly \n",
    "print (TSLA_Monthly_Return.shape)\n",
    "print (AAPL_Monthly_Return.shape)"
   ]
  },
  {
   "cell_type": "markdown",
   "metadata": {},
   "source": [
    "#### Thank you for attending :)"
   ]
  },
  {
   "cell_type": "markdown",
   "metadata": {},
   "source": [
    "### COMING UP: DATA VISUALIZATION 03/09/2021"
   ]
  },
  {
   "cell_type": "code",
   "execution_count": null,
   "metadata": {},
   "outputs": [],
   "source": [
    "#Data Visualization\n",
    "%matplotlib inline\n",
    "#sns.set_style('whitegrid')\n",
    "import seaborn as sns \n",
    "import matplotlib.pyplot as plt    \n",
    "from matplotlib import style\n",
    "#if not included must always use plt.show()"
   ]
  },
  {
   "cell_type": "code",
   "execution_count": null,
   "metadata": {},
   "outputs": [],
   "source": []
  }
 ],
 "metadata": {
  "kernelspec": {
   "display_name": "Python 3",
   "language": "python",
   "name": "python3"
  },
  "language_info": {
   "codemirror_mode": {
    "name": "ipython",
    "version": 3
   },
   "file_extension": ".py",
   "mimetype": "text/x-python",
   "name": "python",
   "nbconvert_exporter": "python",
   "pygments_lexer": "ipython3",
   "version": "3.8.3"
  }
 },
 "nbformat": 4,
 "nbformat_minor": 4
}
